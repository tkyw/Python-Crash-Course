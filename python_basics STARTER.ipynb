{
 "cells": [
  {
   "cell_type": "markdown",
   "metadata": {},
   "source": [
    "# Importance of Python\n",
    "*Why Python?*\n",
    "* Free\n",
    "* Beginner-friendly\n",
    "* Contains many data science libraries that are readily available for use\n",
    "\n",
    "*Python Usage*\n",
    "* Automation\n",
    "* Web Scraping\n",
    "* Statistical Analysis\n",
    "* AI and Machine Learning\n",
    "\n",
    "<font color='gold'>*Session Outline*</font>\n",
    "* Python Basics\n",
    "    - How to print message in Python\n",
    "    - How to perform calculation\n",
    "    - `List`\n",
    "    - `for` loop\n",
    "    - `if-else` statement\n",
    "* Project #1: Excel Manipulation and Automation!\n",
    "* Project #2: Merging, Pivot and Many More!"
   ]
  },
  {
   "cell_type": "markdown",
   "metadata": {},
   "source": [
    "# Python Basics 🐍"
   ]
  },
  {
   "cell_type": "markdown",
   "metadata": {},
   "source": [
    "## Your First Python Code"
   ]
  },
  {
   "cell_type": "code",
   "execution_count": 6,
   "metadata": {},
   "outputs": [],
   "source": []
  },
  {
   "cell_type": "markdown",
   "metadata": {},
   "source": [
    "- `print` is a function used in python to print a message\n",
    "- In Python, anything surrounded by `quotation` (\"\" or '') is considered a `string` or in simplicity, sequence of character"
   ]
  },
  {
   "cell_type": "markdown",
   "metadata": {},
   "source": [
    "## Calculation"
   ]
  },
  {
   "cell_type": "code",
   "execution_count": 6,
   "metadata": {},
   "outputs": [],
   "source": []
  },
  {
   "cell_type": "code",
   "execution_count": 6,
   "metadata": {},
   "outputs": [],
   "source": []
  },
  {
   "cell_type": "markdown",
   "metadata": {},
   "source": [
    "## Challenge #1\n",
    "Assuming `Revenue = 20`, `Expenses = 10`, and `Tax = 24%`, write a python program to calculate the total profit for FY24 (remember to `print` out the profit)"
   ]
  },
  {
   "cell_type": "code",
   "execution_count": null,
   "metadata": {},
   "outputs": [],
   "source": [
    "revenue = ...\n",
    "expenses = ...\n",
    "tax = ...\n",
    "\n",
    "profit = (... - ...) * (1-...)\n",
    "print(profit)"
   ]
  },
  {
   "cell_type": "markdown",
   "metadata": {},
   "source": [
    "## List, For Loop, If-else"
   ]
  },
  {
   "cell_type": "code",
   "execution_count": 9,
   "metadata": {},
   "outputs": [],
   "source": []
  },
  {
   "cell_type": "markdown",
   "metadata": {},
   "source": [
    "## For Loop\n",
    "- A For loop access each element in an iterator one by one\n",
    "- An iterator can be a `range`, `list`, ..."
   ]
  },
  {
   "cell_type": "code",
   "execution_count": null,
   "metadata": {},
   "outputs": [],
   "source": [
    "for idx in iterator:\n",
    "    print(counter) ## statement goes here"
   ]
  },
  {
   "cell_type": "code",
   "execution_count": 6,
   "metadata": {},
   "outputs": [],
   "source": []
  },
  {
   "cell_type": "markdown",
   "metadata": {},
   "source": [
    "## Challenge #2\n",
    "- You are reviewing 5 projects, the NPV of each projects are `[10000, 20000, -10000, -20000, -0.1]`. Use `for` loop and `if-else` statement to check which project to invest.. </br>(hint: We are going to invest in the project that generate positive NPV!)"
   ]
  },
  {
   "cell_type": "code",
   "execution_count": null,
   "metadata": {},
   "outputs": [],
   "source": [
    "npvs = [10000, 20000, -10000, -20000, -0.1]\n",
    "\n",
    "for idx in range(...):\n",
    "    npv = ... ## access the element of list npvs\n",
    "    if ...: ## check if npv is positive\n",
    "        print(\"Yes, we are going to invest in project the project\", idx + 1, \"because the NPV is >0\")\n",
    "    else:\n",
    "        print(\"Sorry, we are not going to invest in the project\", idx + 1, \"because the NPV is <0\")"
   ]
  },
  {
   "cell_type": "markdown",
   "metadata": {},
   "source": [
    "# Project #1 : Excel Manipulation and Automation!\n",
    "Python's built-in function does not allow us to read excel file, to do that, we need to leverage the external libraries: </br>\n",
    "- `pandas`: external library that allow us to read excel file, conduct data analysis and visualisation\n",
    "- `os`: library that manage files and folders in your computer\n",
    "\n",
    "*Project Overview*\n",
    "- `Step 1`: read excel file\n",
    "- `Step 2`: calculate net profit\n",
    "- `Step 3`: output and rename the excel file"
   ]
  },
  {
   "cell_type": "code",
   "execution_count": 6,
   "metadata": {},
   "outputs": [],
   "source": []
  },
  {
   "cell_type": "markdown",
   "metadata": {},
   "source": [
    "# Project #2 : Merging, Pivot, and Many More!\n",
    "*Project Overview*\n",
    "- `Step 1`: read all excel files\n",
    "- `Step 2`: merge all dataframe into one using `pd.concat()`\n",
    "- `Step 3`: Do a pivot table in Python using `df.pivot_table()`!\n",
    "- `Step 4`: Output `2 sheets` into a file called `AnnualReportAll.xlsx`"
   ]
  },
  {
   "cell_type": "code",
   "execution_count": 16,
   "metadata": {},
   "outputs": [
    {
     "name": "stdout",
     "output_type": "stream",
     "text": [
      "This is not an excel file :(\n",
      "This is not an excel file :(\n",
      "This is not an excel file :(\n",
      "This is not an excel file :(\n"
     ]
    }
   ],
   "source": [
    "reports = os.listdir() ## extract the file names in the current folders\n",
    "years = [] ## create an empty list to store `year` of each file later\n",
    "dfs = [] ## create an empty list to store dataframe (we called it table in excel) of each file later\n",
    "\n",
    "for idx in range(len(reports)):\n",
    "    report = reports[idx] ## extract report based on idx\n",
    "    if \"AnnualReport\" in report: ## check if the file is an excel file\n",
    "        df = pd.read_excel(report, index_col=0) ## read the excel file\n",
    "        year = report.split(\".\")[0].replace(\"AnnualReport\", \"\") ## extract the year from the file name\n",
    "        dfs.append(df) ## append the dataframe into the dfs list\n",
    "        years.append(year) ## append the year into the years list\n",
    "    else:\n",
    "        print(\"This is not an excel file :(\") ## statement to be printed if the file is not an excel file\n",
    "\n",
    "# merging\n",
    "merged_df = pd.concat(dfs, keys=years, axis=1) ## merge the dataframe of different years\n",
    "\n",
    "## pivot table\n",
    "df_pivot = merged_df.unstack().reset_index() ## unstack the dataframe and reset the index\n",
    "df_pivot.columns = [\"year\", \"quarter\", \"type\", \"value\"] ## rename the column name\n",
    "df_pivot = df_pivot.pivot_table(index=\"year\", columns=\"type\", values=\"value\", aggfunc=[\"sum\", \"mean\", \"median\"]) ## create a pivot table whereby the index = column \"year\", columns = column \"type\", and value = column \"value\", calculation method = \"sum\", \"mean\", \"median\"\n",
    "\n",
    "## write two tabs into a new file \n",
    "file_name = \"AnnualReportAll.xlsx\" ## define a file name\n",
    "merged_df.to_excel(file_name, sheet_name=\"Annual Data\") ## write into an excel file called \"AnnualReportAll.xlsx\", whereby the sheet name = \"Annual Data\"\n",
    "with pd.ExcelWriter(file_name, engine=\"openpyxl\", mode=\"a\") as writer: \n",
    "    ## by default, `.to_excel()` function will create a new file and overwrite the old file if the file has been exists, \n",
    "    # so directly use the funtion `df_pivot.to_excel(writer, sheet_name=\"Pivot Result\")` will overwrite the data in the `Annual Data` tab that we saved above,\n",
    "    #  to prevent that, we use use pd.ExcelWriter() to open the \"AnnualReportAll.xlsx\" file as `append` mode (mode='a' means append mode) to `append` new data into new tab without overwriting the original data in the original file\n",
    "    df_pivot.to_excel(writer, sheet_name=\"Pivot Result\") ## append another data into the tab called \"Pivot Result\" without overwriting the original file"
   ]
  }
 ],
 "metadata": {
  "kernelspec": {
   "display_name": "Python 3",
   "language": "python",
   "name": "python3"
  },
  "language_info": {
   "codemirror_mode": {
    "name": "ipython",
    "version": 3
   },
   "file_extension": ".py",
   "mimetype": "text/x-python",
   "name": "python",
   "nbconvert_exporter": "python",
   "pygments_lexer": "ipython3",
   "version": "3.12.6"
  }
 },
 "nbformat": 4,
 "nbformat_minor": 2
}
