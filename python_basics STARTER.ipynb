{
 "cells": [
  {
   "cell_type": "markdown",
   "metadata": {},
   "source": [
    "# Importance of Python\n",
    "*Why Python?*\n",
    "* Free\n",
    "* Beginner-friendly\n",
    "* Contains many data science libraries that are readily available for use\n",
    "\n",
    "*Python Usage*\n",
    "* Automation\n",
    "* Web Scraping\n",
    "* Statistical Analysis\n",
    "* AI and Machine Learning\n",
    "\n",
    "<font color='gold'>*Session Outline*</font>\n",
    "* Python Basics\n",
    "    - How to print message in Python\n",
    "    - How to perform calculation\n",
    "    - `List`\n",
    "    - `for` loop\n",
    "    - `if-else` statement\n",
    "* Project #1: Excel Manipulation and Automation!\n",
    "* Project #2: Merging, Pivot and Many More!"
   ]
  },
  {
   "cell_type": "markdown",
   "metadata": {},
   "source": [
    "# Python Basics 🐍"
   ]
  },
  {
   "cell_type": "markdown",
   "metadata": {},
   "source": [
    "## Your First Python Code"
   ]
  },
  {
   "cell_type": "code",
   "execution_count": 6,
   "metadata": {},
   "outputs": [],
   "source": []
  },
  {
   "cell_type": "markdown",
   "metadata": {},
   "source": [
    "- `print` is a function used in python to print a message\n",
    "- In Python, anything surrounded by `quotation` (\"\" or '') is considered a `string` or in simplicity, sequence of character"
   ]
  },
  {
   "cell_type": "markdown",
   "metadata": {},
   "source": [
    "## Calculation"
   ]
  },
  {
   "cell_type": "code",
   "execution_count": 6,
   "metadata": {},
   "outputs": [],
   "source": []
  },
  {
   "cell_type": "code",
   "execution_count": 6,
   "metadata": {},
   "outputs": [],
   "source": []
  },
  {
   "cell_type": "markdown",
   "metadata": {},
   "source": [
    "## Challenge #1\n",
    "Assuming `Revenue = 20`, `Expenses = 10`, and `Tax = 24%`, write a python program to calculate the total profit for FY24 (remember to `print` out the profit)"
   ]
  },
  {
   "cell_type": "code",
   "execution_count": null,
   "metadata": {},
   "outputs": [],
   "source": [
    "revenue = ...\n",
    "expenses = ...\n",
    "tax = ...\n",
    "\n",
    "profit = (... - ...) * (1-...)\n",
    "print(profit)"
   ]
  },
  {
   "cell_type": "markdown",
   "metadata": {},
   "source": [
    "## List, For Loop, If-else"
   ]
  },
  {
   "cell_type": "code",
   "execution_count": 9,
   "metadata": {},
   "outputs": [],
   "source": []
  },
  {
   "cell_type": "markdown",
   "metadata": {},
   "source": [
    "## For Loop\n",
    "- A For loop access each element in an iterator one by one\n",
    "- An iterator can be a `range`, `list`, ..."
   ]
  },
  {
   "cell_type": "code",
   "execution_count": null,
   "metadata": {},
   "outputs": [],
   "source": [
    "for counter in range(...):\n",
    "    print(counter) ## statement goes here"
   ]
  },
  {
   "cell_type": "code",
   "execution_count": 6,
   "metadata": {},
   "outputs": [],
   "source": []
  },
  {
   "cell_type": "markdown",
   "metadata": {},
   "source": [
    "## Challenge #2\n",
    "- You are reviewing 5 projects, the NPV of each projects are `[10000, 20000, -10000, -20000, -0.1]`. Use `for` loop and `if-else` statement to check which project to invest.. </br>(hint: We are going to invest in the project that generate positive NPV!)"
   ]
  },
  {
   "cell_type": "code",
   "execution_count": null,
   "metadata": {},
   "outputs": [],
   "source": [
    "npvs = [10000, 20000, -10000, -20000, -0.1]\n",
    "\n",
    "for idx in range(...):\n",
    "    npv = ... ## access the element of list npvs\n",
    "    if ...: ## check if npv is positive\n",
    "        print(\"Yes, we are going to invest in project the project\", idx + 1, \"because the NPV is >0\")\n",
    "    else:\n",
    "        print(\"Sorry, we are not going to invest in the project\", idx + 1, \"because the NPV is <0\")"
   ]
  },
  {
   "cell_type": "markdown",
   "metadata": {},
   "source": [
    "# Project #1 : Excel Manipulation and Automation!\n",
    "Python's built-in function does not allow us to read excel file, to do that, we need to leverage the external libraries: </br>\n",
    "- `pandas`: external library that allow us to read excel file, conduct data analysis and visualisation\n",
    "- `os`: library that manage files and folders in your computer\n",
    "\n",
    "*Project Overview*\n",
    "- `Step 1`: read excel file\n",
    "- `Step 2`: calculate net profit\n",
    "- `Step 3`: output and rename the excel file"
   ]
  },
  {
   "cell_type": "code",
   "execution_count": 6,
   "metadata": {},
   "outputs": [],
   "source": []
  },
  {
   "cell_type": "markdown",
   "metadata": {},
   "source": [
    "# Project #2 : Merging, Pivot, and Many More!\n",
    "*Project Overview*\n",
    "- `Step 1`: read all excel files\n",
    "- `Step 2`: merge all dataframe into one using `pd.concat()`\n",
    "- `Step 3`: Do a pivot table in Python using `df.pivot_table()`!\n",
    "- `Step 4`: Output `2 sheets` into a file called `AnnualReportAll.xlsx`"
   ]
  },
  {
   "cell_type": "code",
   "execution_count": null,
   "metadata": {},
   "outputs": [],
   "source": []
  }
 ],
 "metadata": {
  "kernelspec": {
   "display_name": "Python 3",
   "language": "python",
   "name": "python3"
  },
  "language_info": {
   "codemirror_mode": {
    "name": "ipython",
    "version": 3
   },
   "file_extension": ".py",
   "mimetype": "text/x-python",
   "name": "python",
   "nbconvert_exporter": "python",
   "pygments_lexer": "ipython3",
   "version": "3.12.6"
  }
 },
 "nbformat": 4,
 "nbformat_minor": 2
}
